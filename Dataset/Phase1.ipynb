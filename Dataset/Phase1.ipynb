{
  "metadata": {
    "kernelspec": {
      "name": "python",
      "display_name": "Python (Pyodide)",
      "language": "python"
    },
    "language_info": {
      "codemirror_mode": {
        "name": "python",
        "version": 3
      },
      "file_extension": ".py",
      "mimetype": "text/x-python",
      "name": "python",
      "nbconvert_exporter": "python",
      "pygments_lexer": "ipython3",
      "version": "3.8"
    }
  },
  "nbformat_minor": 5,
  "nbformat": 4,
  "cells": [
    {
      "id": "bd4b0af1-1a0f-466d-b578-bc75c1c9d545",
      "cell_type": "code",
      "source": "import pandas as pd\nimport numpy as np\nimport matplotlib.pyplot as plt\n\nurl = \"https://raw.githubusercontent.com/lin-010/IT326-Water-Potability/refs/heads/main/Dataset/Raw_dataset.csv\"\ndf = pd.read_csv(url)   \n\n\nprint(\"Shape of dataset:\", df.shape)\nprint(\"\\nColumns:\", df.columns)\nprint(\"\\nData types:\\n\", df.dtypes)\nprint(\"\\nFirst 5 rows:\\n\", df.head())\n\n\nprint(\"\\nMissing values per column:\\n\", df.isnull().sum())\n\n\nprint(\"\\nClass distribution:\\n\", df['Potability'].value_counts())\n\ndf['Potability'].value_counts().plot(kind='bar', title='Class Distribution (Potability)')\nplt.show()\n\n\nprint(\"\\nStatistical summary:\\n\", df.describe())\n\n\nplt.matshow(df.corr())\nplt.colorbar()\nplt.title(\"Correlation Heatmap\", pad=20)\nplt.show()\n",
      "metadata": {
        "trusted": true
      },
      "outputs": [],
      "execution_count": null
    }
  ]
}