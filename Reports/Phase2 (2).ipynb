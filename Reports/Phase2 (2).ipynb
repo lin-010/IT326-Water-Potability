{
  "metadata": {
    "kernelspec": {
      "name": "python",
      "display_name": "Python (Pyodide)",
      "language": "python"
    },
    "language_info": {
      "codemirror_mode": {
        "name": "python",
        "version": 3
      },
      "file_extension": ".py",
      "mimetype": "text/x-python",
      "name": "python",
      "nbconvert_exporter": "python",
      "pygments_lexer": "ipython3",
      "version": "3.8"
    }
  },
  "nbformat_minor": 5,
  "nbformat": 4,
  "cells": [
    {
      "id": "dbf9e8c1-5f4f-47b9-848d-60875d633774",
      "cell_type": "code",
      "source": "\n# Water Potability Dataset - Data Analysis\n\n\n# 1. Import Libraries\nimport pandas as pd\nimport numpy as np\nimport matplotlib.pyplot as plt\nimport seaborn as sns\n\n\nsns.set(style=\"whitegrid\")\nplt.rcParams['figure.figsize'] = (10,6)\n\n\n# 2. Load Dataset\n\nurl = \"https://raw.githubusercontent.com/lin-010/IT326-Water-Potability/refs/heads/main/Dataset/Raw_dataset.csv\"\ndf = pd.read_csv(url)   \n\n\nprint(df.head())\n\n\n# 3. Check Missing Values\n\nprint(\"\\nMissing Values per Column:\\n\")\nprint(df.isnull().sum())\n\n\nplt.figure(figsize=(8,5))\nsns.heatmap(df.isnull(), cbar=False, cmap=\"viridis\")\nplt.title(\"Missing Values Heatmap\")\nplt.show()\n\n\n# 4. Statistical Summary (Five-number summary)\n\nprint(\"\\nStatistical Summary:\\n\")\nprint(df.describe())\n\n\n# 5. Plot 1: Histogram - Variable Distributions\n\ndf.hist(figsize=(12,10), bins=20, color='skyblue')\nplt.suptitle(\"Histograms of Numeric Attributes\", fontsize=16)\nplt.show()\n\n\n# 6. Plot 2: Boxplot - Outliers Detection\n\nplt.figure(figsize=(12,6))\nsns.boxplot(data=df, orient=\"h\")\nplt.title(\"Boxplot for Detecting Outliers\")\nplt.show()\n\n\n# 7. Plot 3: Countplot - Class Label Distribution\n\nplt.figure(figsize=(6,4))\nsns.countplot(x='Potability', data=df, palette='pastel')\nplt.title(\"Class Label Distribution (Potability)\")\nplt.xlabel(\"Potability (0 = Not Drinkable, 1 = Drinkable)\")\nplt.ylabel(\"Count\")\nplt.show()\n\n\n# 8. Plot 4: Scatter Plot - Relationship Example\n\nplt.figure(figsize=(7,5))\nsns.scatterplot(x='ph', y='Hardness', hue='Potability', data=df, alpha=0.7)\nplt.title(\"Scatter Plot of pH vs Hardness by Potability\")\nplt.show()\n\n# -----------------------------------------------------------\n# 9. Brief Observations :\n\n# - Missing values exist in several columns, so preprocessing (imputation) is required.\n# - Histograms show that some features like 'ph' and 'Sulfate' are skewed.\n# - Boxplots reveal outliers, especially in 'Sulfate' and 'Turbidity'.\n# - Class label distribution is imbalanced (more non-drinkable samples).\n# - Scatter plot shows weak correlation between pH and Hardness.\n\n# Water Potability Dataset - Data Preprocessing\n# 10. Data Preprocessing\n\n# 10.1 Handle Missing Values (Imputation)\n\n\ndf_filled = df.fillna(df.median())\nprint(\"\\n Missing values handled using median imputation.\\n\")\nprint(df_filled.isnull().sum())\n\n\n# 10.2 Handle Outliers \nQ1 = df_filled.quantile(0.25)\nQ3 = df_filled.quantile(0.75)\nIQR = Q3 - Q1\n\n# Define bounds\nlower_bound = Q1 - 1.5 * IQR\nupper_bound = Q3 + 1.5 * IQR\n\n# Cap outliers \ndf_no_outliers = df_filled.clip(lower=lower_bound, upper=upper_bound, axis=1)\n\nprint(\"\\n Outliers handled using IQR method.\\n\")\n\n\n# 10.3 Normalization \nfrom sklearn.preprocessing import MinMaxScaler\n\nscaler = MinMaxScaler()\nscaled_data = scaler.fit_transform(df_no_outliers.drop('Potability', axis=1))\n\ndf_scaled = pd.DataFrame(scaled_data, columns=df_no_outliers.columns[:-1])\ndf_scaled['Potability'] = df_no_outliers['Potability']\n\nprint(\"\\n Data normalized using Min-Max scaling.\\n\")\nprint(df_scaled.head())\n\n\n# 10.4 Feature Selection (Correlation Analysis)\nplt.figure(figsize=(10,6))\ncorr_matrix = df_scaled.corr()\nsns.heatmap(corr_matrix, annot=False, cmap=\"coolwarm\")\nplt.title(\"Correlation Matrix Heatmap\")\nplt.show()\n\n# Drop low-correlation features \nlow_corr_features = corr_matrix['Potability'][abs(corr_matrix['Potability']) < 0.05].index\nprint(\"Low correlation features (optional to drop):\", list(low_corr_features))\n\n\n# 10.5 Save Preprocessed Data\ndf_scaled.to_csv(\"Preprocessed_dataset.csv\", index=False)\nprint(\"\\n Preprocessed dataset saved as 'Preprocessed_dataset.csv'\\n\")\n\n\n# -----------------------------------------------------------\n# 11. Summary of Preprocessing Steps\n\nprint(\"\"\"\nPreprocessing Summary:\n1. Missing values handled with median imputation.\n2. Outliers capped using IQR-based winsorization.\n3. Data normalized using Min-Max Scaling (0–1 range).\n4. Features evaluated using correlation analysis.\n5. Final dataset saved for Phase 3 (classification & clustering).\n\"\"\")",
      "metadata": {
        "trusted": true
      },
      "outputs": [],
      "execution_count": null
    }
  ]
}