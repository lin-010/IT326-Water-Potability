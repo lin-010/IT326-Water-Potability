{
  "metadata": {
    "kernelspec": {
      "name": "python",
      "display_name": "Python (Pyodide)",
      "language": "python"
    },
    "language_info": {
      "codemirror_mode": {
        "name": "python",
        "version": 3
      },
      "file_extension": ".py",
      "mimetype": "text/x-python",
      "name": "python",
      "nbconvert_exporter": "python",
      "pygments_lexer": "ipython3",
      "version": "3.8"
    }
  },
  "nbformat_minor": 5,
  "nbformat": 4,
  "cells": [
    {
      "id": "8c0b4a70-380a-4649-81d2-43739a29d4c0",
      "cell_type": "code",
      "source": "\n# Water Potability Dataset - Data Analysis\n\n\n# 1. Import Libraries\nimport pandas as pd\nimport numpy as np\nimport matplotlib.pyplot as plt\nimport seaborn as sns\n\n\nsns.set(style=\"whitegrid\")\nplt.rcParams['figure.figsize'] = (10,6)\n\n\n# 2. Load Dataset\n\nurl = \"https://raw.githubusercontent.com/lin-010/IT326-Water-Potability/refs/heads/main/Dataset/Raw_dataset.csv\"\ndata = pd.read_csv(url)   \n\n\nprint(df.head())\n\n\n# 3. Check Missing Values\n\nprint(\"\\nMissing Values per Column:\\n\")\nprint(df.isnull().sum())\n\n\nplt.figure(figsize=(8,5))\nsns.heatmap(df.isnull(), cbar=False, cmap=\"viridis\")\nplt.title(\"Missing Values Heatmap\")\nplt.show()\n\n\n# 4. Statistical Summary (Five-number summary)\n\nprint(\"\\nStatistical Summary:\\n\")\nprint(df.describe())\n\n\n# 5. Plot 1: Histogram - Variable Distributions\n\ndf.hist(figsize=(12,10), bins=20, color='skyblue')\nplt.suptitle(\"Histograms of Numeric Attributes\", fontsize=16)\nplt.show()\n\n\n# 6. Plot 2: Boxplot - Outliers Detection\n\nplt.figure(figsize=(12,6))\nsns.boxplot(data=df, orient=\"h\")\nplt.title(\"Boxplot for Detecting Outliers\")\nplt.show()\n\n\n# 7. Plot 3: Countplot - Class Label Distribution\n\nplt.figure(figsize=(6,4))\nsns.countplot(x='Potability', data=df, palette='pastel')\nplt.title(\"Class Label Distribution (Potability)\")\nplt.xlabel(\"Potability (0 = Not Drinkable, 1 = Drinkable)\")\nplt.ylabel(\"Count\")\nplt.show()\n\n\n# 8. Plot 4: Scatter Plot - Relationship Example\n\nplt.figure(figsize=(7,5))\nsns.scatterplot(x='ph', y='Hardness', hue='Potability', data=df, alpha=0.7)\nplt.title(\"Scatter Plot of pH vs Hardness by Potability\")\nplt.show()\n\n# -----------------------------------------------------------\n# 9. Brief Observations :\n\n# - Missing values exist in several columns, so preprocessing (imputation) is required.\n# - Histograms show that some features like 'ph' and 'Sulfate' are skewed.\n# - Boxplots reveal outliers, especially in 'Sulfate' and 'Turbidity'.\n# - Class label distribution is imbalanced (more non-drinkable samples).\n# - Scatter plot shows weak correlation between pH and Hardness.\n\n# Water Potability Dataset - Data Preprocessing",
      "metadata": {
        "trusted": true
      },
      "outputs": [],
      "execution_count": null
    }
  ]
}